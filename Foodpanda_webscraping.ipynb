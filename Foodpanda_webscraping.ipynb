{
  "nbformat": 4,
  "nbformat_minor": 0,
  "metadata": {
    "colab": {
      "name": "Foodpanda_webscraping.ipynb",
      "provenance": [],
      "collapsed_sections": [],
      "authorship_tag": "ABX9TyPzt+lXjtF8PokzTX+Uzj1H",
      "include_colab_link": true
    },
    "kernelspec": {
      "name": "python3",
      "display_name": "Python 3"
    },
    "language_info": {
      "name": "python"
    }
  },
  "cells": [
    {
      "cell_type": "markdown",
      "metadata": {
        "id": "view-in-github",
        "colab_type": "text"
      },
      "source": [
        "<a href=\"https://colab.research.google.com/github/lethuy195261/lethuy195261.github.io/blob/main/Foodpanda_webscraping.ipynb\" target=\"_parent\"><img src=\"https://colab.research.google.com/assets/colab-badge.svg\" alt=\"Open In Colab\"/></a>"
      ]
    },
    {
      "cell_type": "code",
      "metadata": {
        "id": "D_rg-PdD3YFT"
      },
      "source": [
        "from googlesearch import search\n",
        "import pandas as pd\n",
        "import time\n",
        "import numpy as np "
      ],
      "execution_count": 10,
      "outputs": []
    },
    {
      "cell_type": "code",
      "metadata": {
        "colab": {
          "resources": {
            "http://localhost:8080/nbextensions/google.colab/files.js": {
              "data": "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",
              "ok": true,
              "headers": [
                [
                  "content-type",
                  "application/javascript"
                ]
              ],
              "status": 200,
              "status_text": ""
            }
          },
          "base_uri": "https://localhost:8080/",
          "height": 140
        },
        "id": "4GG0R49UY-hX",
        "outputId": "43150e32-8a2b-453e-9d0d-deefa83b32f2"
      },
      "source": [
        "from google.colab import files\n",
        "uploaded = files.upload()"
      ],
      "execution_count": 11,
      "outputs": [
        {
          "output_type": "display_data",
          "data": {
            "text/html": [
              "\n",
              "     <input type=\"file\" id=\"files-5bb0ea04-c744-46d3-a51e-673b656cc973\" name=\"files[]\" multiple disabled\n",
              "        style=\"border:none\" />\n",
              "     <output id=\"result-5bb0ea04-c744-46d3-a51e-673b656cc973\">\n",
              "      Upload widget is only available when the cell has been executed in the\n",
              "      current browser session. Please rerun this cell to enable.\n",
              "      </output>\n",
              "      <script src=\"/nbextensions/google.colab/files.js\"></script> "
            ],
            "text/plain": [
              "<IPython.core.display.HTML object>"
            ]
          },
          "metadata": {
            "tags": []
          }
        },
        {
          "output_type": "stream",
          "text": [
            "Saving tenmei_2.csv to tenmei_2 (1).csv\n",
            "Saving western_chain.csv to western_chain (1).csv\n",
            "Saving Foodpanda_locations.csv to Foodpanda_locations (1).csv\n"
          ],
          "name": "stdout"
        }
      ]
    },
    {
      "cell_type": "code",
      "metadata": {
        "id": "9fc1HW7HZJB5"
      },
      "source": [
        "import io\n",
        "df = pd.read_csv(io.BytesIO(uploaded['western_chain.csv']))\n",
        "df_2 = pd.read_csv(io.BytesIO(uploaded['tenmei_2.csv']))\n",
        "df_3 = pd.read_csv(io.BytesIO(uploaded['Foodpanda_locations.csv']))\n",
        "# Dataset is now stored in a Pandas Dataframe"
      ],
      "execution_count": 12,
      "outputs": []
    },
    {
      "cell_type": "code",
      "metadata": {
        "id": "lXiLMR7n3eww"
      },
      "source": [
        "shop_lists = df.iloc[:,0].tolist()\n",
        "shop_lists_2 = df_2.iloc[:,0].tolist()\n",
        "locations =df_3.iloc[:,0].tolist()"
      ],
      "execution_count": 13,
      "outputs": []
    },
    {
      "cell_type": "code",
      "metadata": {
        "id": "tGjf7fsJ3jnV",
        "colab": {
          "base_uri": "https://localhost:8080/"
        },
        "outputId": "cb7e7d67-dbe1-4af6-b07b-bec6b46f325e"
      },
      "source": [
        "for j in range(25): \n",
        "        query = '\"foodpanda.co.jp\"'+ \" \" + shop_lists[j]\n",
        "        for x in search(query, tld=\"co.in\", num=3, stop=3, pause=(10-3)*np.random.random()+3):\n",
        "            print(shop_lists[j],x)  "
      ],
      "execution_count": 14,
      "outputs": [
        {
          "output_type": "stream",
          "text": [
            "Grill＆Dining 丸の内ディンドン https://www.foodpanda.co.jp/\n",
            "Grill＆Dining 丸の内ディンドン https://r.gnavi.co.jp/g013010/\n",
            "Grill＆Dining 丸の内ディンドン https://r.gnavi.co.jp/g013009/\n",
            "ポムの樹 https://th-th.facebook.com/qualia2008.3.29/posts/4157135097653878/\n",
            "ポムの樹 https://www.facebook.com/permalink.php?id=148783218489106&story_fbid=4157135097653878\n",
            "ポムの樹 https://note.com/ykgo/n/n2a1103a07b8f\n",
            "新宿中村屋 http://curry-hunter.jp/post-18/\n",
            "新宿中村屋 http://curry-hunter.jp/post-7989/\n",
            "新宿中村屋 https://wakeupod.com/ns2c27/defbdc65006.htm\n",
            "つばめグリル https://www.foodpanda.co.jp/city/sendai\n",
            "つばめグリル https://www.foodpanda.co.jp/restaurant/t2x1\n",
            "つばめグリル https://www.foodpanda.co.jp/en/city/sendai\n",
            "ビッグシェフ https://www.foodpanda.co.jp/city/osaka\n",
            "ビッグシェフ https://www.foodpanda.co.jp/chain/cw5gm/dominos\n",
            "ビッグシェフ https://www.foodpanda.co.jp/chain/cv3zl/shideiku\n",
            "サンマルク https://de-de.facebook.com/CINECITTADELLA/posts/1767765810028636\n",
            "サンマルク https://b-m.facebook.com/CINECITTADELLA/\n",
            "サンマルク https://freesworder.net/delivery-apps-comparison/\n",
            "マクドナルド https://www.foodpanda.co.jp/\n",
            "マクドナルド https://www.foodpanda.co.jp/city/sapporo\n",
            "マクドナルド https://www.foodpanda.co.jp/city/fukuoka\n",
            "ステーキのどん https://www.foodpanda.co.jp/city/sendai\n",
            "ステーキのどん https://www.foodpanda.co.jp/city/sapporo\n",
            "ステーキのどん https://www.foodpanda.co.jp/chain/cf7kx/ziyaponeju-le-bu\n",
            "うかい亭 https://www.foodpanda.co.jp/city/shizuoka\n",
            "うかい亭 https://www.foodpanda.co.jp/en/city/shizuoka\n",
            "うかい亭 https://beauty.biglobe.ne.jp/gourmet/detail-a023346\n",
            "ガルロ ネロ https://www.foodpanda.co.jp/city/kawasaki\n",
            "ガルロ ネロ https://www.foodpanda.co.jp/city/kobe\n",
            "ニューミュンヘン https://www.foodpanda.co.jp/\n",
            "ニューミュンヘン https://www.foodpanda.co.jp/restaurant/new/j2ek/indokarezhuan-men-dian-niruvuana\n",
            "ニューミュンヘン https://newmunchen.co.jp/\n",
            "カレーの王様 https://www.foodpanda.co.jp/city/sapporo\n",
            "カレーの王様 https://www.foodpanda.co.jp/restaurant/new/xxsv/indonowang-yang\n",
            "カレーの王様 https://www.foodpanda.co.jp/restaurant/t0pf\n",
            "キッチンジロー https://www.foodpanda.co.jp/city/fukuoka\n",
            "キッチンジロー https://www.foodpanda.co.jp/city/osaka\n",
            "キッチンジロー https://www.foodpanda.co.jp/city/okayama\n",
            "クアアイナ https://ko-kr.facebook.com/shakeshack.tokyointernationalforum/?rf=123482584421889\n",
            "クアアイナ https://zh-hk.facebook.com/shakeshack.tokyointernationalforum/?hc_ref=ARQ-aePg9PzsV1CH8h6IE_URle7j0AbmDfu9bXdhFF7nFGfq9v_FRgWV7yucV3oQPPQ&ref=nf_target&fref=tag&rf=694006047286472\n",
            "クアアイナ https://search.yahoo.co.jp/web/savepref?ei=UTF-8&pref_done=https%3A%2F%2Fsearch.yahoo.co.jp%2Frealtime%2Fsearch%3Ffr%3Drts_top%26p%3D%2523%25E3%2582%25B0%25E3%2583%25AB%25E3%2583%25A1%25E3%2583%2590%25E3%2583%25BC%25E3%2582%25AC%25E3%2583%25BC%26sv%3D1%26ei%3DUTF-8&rtsrch_img=1\n",
            "グランブッフェ https://www.foodpanda.co.jp/en/city/tokyo\n",
            "グランブッフェ https://www.foodpanda.co.jp/restaurant/new/fm7q/yi-da-naomotenashiduccadeyutsuka\n",
            "グランブッフェ https://note.com/manipopo/n/nc1697aecbf46\n",
            "グリル満天星 https://www.foodyas.com/JP/Minato-ku/1521052434851824/%E3%82%B7%E3%82%A7%E3%82%A4%E3%82%AF%E3%82%B7%E3%83%A3%E3%83%83%E3%82%AF\n",
            "ゴールドラッシュ ハンバーグ https://swallow.5ch.net/test/read.cgi/livejupiter/1619662191/\n",
            "ゴールドラッシュ ハンバーグ http://akase.xsrv.jp/camera/category/%E3%82%B0%E3%83%AB%E3%83%A1/\n",
            "SUBWAY サンドイッチ https://www.foodpanda.co.jp/chain/cb4gl/subway\n",
            "SUBWAY サンドイッチ https://www.foodpanda.co.jp/en/chain/cb4gl/subway\n",
            "SUBWAY サンドイッチ https://www.foodpanda.co.jp/restaurant/new/vewr/sabuuei-maruishiteiheng-bang-dian\n",
            "ダッキーダック https://www.foodpanda.com/\n",
            "ダッキーダック https://www.foodpanda.co.jp/contents/company-information\n",
            "ダッキーダック https://www.foodpanda.co.jp/city/sapporo\n",
            "テキサスキングステーキ https://www.foodpanda.co.jp/restaurant/new/h2wn/sutekihausu-tekisasu\n",
            "テキサスキングステーキ https://www.foodpanda.co.jp/city/sendai\n",
            "テキサスキングステーキ https://www.foodpanda.co.jp/restaurant/v1mf\n",
            "BAQET https://www.foodpanda.com/\n",
            "BAQET https://www.foodpanda.co.jp/en/contents/privacy.htm\n",
            "BAQET https://en.wikipedia.org/wiki/Foodpanda\n",
            "フェスタガーデン http://surfacesimmo.anokhba.com/flows99f4/bdaeea805826.htm\n",
            "フェスタガーデン https://zh-tw.facebook.com/okayamagyozafest/posts/?ref=page_internal\n",
            "フェスタガーデン https://en-gb.facebook.com/okayamagyozafest/posts/\n",
            "フォルクス http://caesar.lt/learnt12/cf356450.htm\n",
            "フォルクス https://lavender.5ch.net/test/read.cgi/point/1618720082/253-n\n",
            "フォルクス https://lavender.5ch.net/test/read.cgi/point/1618720082/76-n\n",
            "ラケル https://www.foodpanda.co.jp/restaurant/new/hszy/wineandgrill-ci-sono\n",
            "ラケル https://beauty.biglobe.ne.jp/gourmet/detail-a023346\n",
            "ラケル https://wakeupod.com/ian14/aac204611.htm\n",
            "Royal Host https://www.foodpanda.com/\n",
            "Royal Host https://www.foodpanda.co.th/city/bangkok\n",
            "Royal Host https://www.foodpanda.co.jp/en/contents/privacy.htm\n"
          ],
          "name": "stdout"
        }
      ]
    },
    {
      "cell_type": "code",
      "metadata": {
        "colab": {
          "base_uri": "https://localhost:8080/"
        },
        "id": "ROc0d2w4ZpQ-",
        "outputId": "d8e319db-f789-44e0-bf2c-ce4efba42c37"
      },
      "source": [
        "print(\"Start : %s\" % time.ctime())\n",
        "time.sleep(2000)\n",
        "print(\"End : %s\" % time.ctime())"
      ],
      "execution_count": 15,
      "outputs": [
        {
          "output_type": "stream",
          "text": [
            "Start : Wed May 26 08:22:55 2021\n",
            "End : Wed May 26 08:56:15 2021\n"
          ],
          "name": "stdout"
        }
      ]
    },
    {
      "cell_type": "code",
      "metadata": {
        "id": "ksyfEBOHamAn",
        "colab": {
          "base_uri": "https://localhost:8080/"
        },
        "outputId": "fbaefaa6-a974-4e99-fd04-7e6fe6f7cad9"
      },
      "source": [
        "for j in range(26,len(shop_lists)): \n",
        "        query = '\"foodpanda.co.jp\"'+ \" \" + shop_lists[j]\n",
        "        for x in search(query, tld=\"co.in\", num=3, stop=3, pause=(20-3)*np.random.random()+3):\n",
        "            print(shop_lists[j],x) "
      ],
      "execution_count": 16,
      "outputs": [
        {
          "output_type": "stream",
          "text": [
            "神田グリル https://www.foodpanda.co.jp/city/tokyo\n",
            "神田グリル https://www.foodpanda.co.jp/chain/cv3zl/shideiku\n",
            "神田グリル https://www.foodpanda.co.jp/city/gifu\n",
            "洋麺屋 五右衛門 https://www.foodpanda.co.jp/campaigns?url_key=JP_NC75%25OffNEWPANDA_AllCities&lat=33.5806331&lng=130.396024\n",
            "洋麺屋 五右衛門 https://www.foodpanda.co.jp/campaigns?url_key=JP_RAF_Dec2020&lat=33.5806331&lng=130.396024\n",
            "洋麺屋 五右衛門 https://www.foodpanda.co.jp/campaigns?url_key=JP_AAA_Thealley_50%25off_202102&lat=33.5806331&lng=130.396024\n",
            "ステーキ宮 https://www.foodpanda.co.jp/city/tokyo\n",
            "ステーキ宮 https://www.foodpanda.co.jp/city/sendai\n",
            "ステーキ宮 https://www.foodpanda.co.jp/city/kumamoto\n",
            "加真呂 https://www.foodpanda.co.jp/\n",
            "加真呂 https://rider.foodpanda.co.jp/\n",
            "加真呂 https://www.hotpepper.jp/gstr00649/\n",
            "東京厨房 https://www.foodpanda.co.jp/city/kawasaki\n",
            "東京厨房 https://www.foodpanda.co.jp/city/sapporo\n",
            "東京厨房 https://www.foodpanda.co.jp/city/chiba\n",
            "ヨーロッパ軒 https://www.foodpanda.co.jp/city/sapporo\n",
            "ヨーロッパ軒 https://www.foodpanda.co.jp/city/tokyo\n",
            "ヨーロッパ軒 https://www.foodpanda.co.jp/city/saitama\n",
            "石焼ステーキ贅 https://30min.jp/gnavi/station/6570/%E5%AE%8C%E5%85%A8%E5%80%8B%E5%AE%A4\n",
            "石焼ステーキ贅 http://akase.xsrv.jp/camera/category/%E3%82%B0%E3%83%AB%E3%83%A1/\n",
            "ステーキハンバーグ＆サラダバー けん https://www.foodpanda.co.jp/city/sapporo\n",
            "ステーキハンバーグ＆サラダバー けん https://www.foodpanda.co.jp/city/sendai\n",
            "ステーキハンバーグ＆サラダバー けん https://www.foodpanda.co.jp/campaigns?url_key=JP_NC75%25OffNEWPANDA_AllCities&lat=33.5806331&lng=130.396024\n",
            "チュッタ https://www.foodpanda.com/\n",
            "チュッタ https://www.foodpanda.co.jp/city/sapporo\n",
            "チュッタ https://rider.foodpanda.co.jp/\n",
            "トップス カレー https://www.foodpanda.co.jp/en/cuisine/cakes-delivery-osaka?r=1\n",
            "トップス カレー https://www.foodpanda.co.jp/en/cuisine/beverages-delivery-kobe?r=1\n",
            "トップス カレー https://www.foodpanda.co.jp/en/restaurant/d61x/maruhashi-tang-chikamachiraunzidian\n",
            "TOMATO & ONION トマトアンドオニオン https://www.foodpanda.co.jp/en/chain/cb4gl/subway\n",
            "TOMATO & ONION トマトアンドオニオン https://www.foodpanda.co.jp/en/restaurant/kzph/sabuuei-bei-xin-zhai-qiao-dian\n",
            "TOMATO & ONION トマトアンドオニオン https://www.foodpanda.co.jp/en/chain/cc5jy/tgi-fridays?utm_source=google&utm_medium=organic&utm_campaign=google_place_order_action\n",
            "ふらんす亭 https://www.foodpanda.co.jp/city/tokyo\n",
            "ふらんす亭 https://www.foodpanda.co.jp/city/sapporo\n",
            "ふらんす亭 https://www.foodpanda.co.jp/city/kobe\n",
            "モスバーガー https://www.foodpanda.co.jp/city/osaka\n",
            "モスバーガー https://www.foodpanda.co.jp/city/kobe\n",
            "モスバーガー https://prtimes.jp/main/html/rd/p/000000272.000001046.html\n",
            "オムレットメゾン https://www.foodpanda.co.jp/\n",
            "オムレットメゾン https://www.foodpanda.co.jp/contents/company-information\n",
            "グリル丸の内亭 https://www.foodpanda.co.jp/city/nagoya\n",
            "グリル丸の内亭 https://picirj.netlify.app/tag/%E4%B8%AD%E5%8C%BA%E3%82%AF%E3%82%99%E3%83%AB%E3%83%A1\n",
            "ステーキハウス ハマ https://www.foodpanda.co.jp/city/sapporo\n",
            "ステーキハウス ハマ https://www.foodpanda.co.jp/city/osaka\n",
            "ステーキハウス ハマ https://www.foodpanda.co.jp/city/fukuoka\n",
            "CASA カーサ https://www.foodpanda.co.jp/restaurant/new/qjb5/dining-casa\n",
            "CASA カーサ https://www.foodpanda.co.jp/restaurant/new/skma/casa-de-eduardo-chirijia-ting-liao-li\n",
            "CASA カーサ https://www.foodpanda.co.jp/restaurant/new/tkme/kasaderusoru\n",
            "ステーキガスト https://www.foodpanda.co.jp/city/nagoya\n",
            "ステーキガスト https://gourmet.watch.impress.co.jp/docs/news/1320434.html\n",
            "ステーキガスト https://twitter.com/yacco191\n",
            "JUMBO STEAK HAN'S https://www.foodpanda.co.th/city/pathum-thani\n",
            "JUMBO STEAK HAN'S https://www.foodpanda.co.th/campaigns?url_key=pick-up-new-restaurants&lat=12.59578599376426&lng=102.0961688884162\n",
            "JUMBO STEAK HAN'S https://www.foodpanda.ph/city/butuan\n",
            "いしがまやハンバーグ https://www.foodpanda.co.jp/campaigns?url_key=JP_NC75%25OffNEWPANDA_AllCities&lat=33.5806331&lng=130.396024\n",
            "いしがまやハンバーグ https://www.foodpanda.co.jp/campaigns?url_key=JP_NC75%25OffNEWPANDA_AllCities&lat=43.0176940117558&lng=141.3717085462799\n",
            "いしがまやハンバーグ https://www.foodpanda.co.jp/campaigns?url_key=JP_RAF_Dec2020&lat=33.5806331&lng=130.396024\n",
            "洋食グリル 丸の内ディンドン https://www.foodpanda.co.jp/city/tokyo\n",
            "洋食グリル 丸の内ディンドン https://www.foodpanda.co.jp/restaurant/new/cf8t/gurirubaguderi\n",
            "神田の肉バル ランプキャップ RUMP CAP https://www.hotpepper.jp/strJ001128967/\n",
            "神田の肉バル ランプキャップ RUMP CAP https://www.hotpepper.jp/strJ001118466/\n",
            "神田の肉バル ランプキャップ RUMP CAP http://search.daisyo.co.jp/shop.php?shop_cd=1844\n",
            "アッ！そうだ ステーキ https://medaka.5ch.net/test/read.cgi/part/1612488842/\n",
            "アッ！そうだ ステーキ https://itest.5ch.net/medaka/test/read.cgi/part/1599324240\n",
            "アッ！そうだ ステーキ https://ko-kr.facebook.com/yodoya2018/posts/?ref=page_internal\n",
            "ジョナサン http://curry-hunter.jp/post-8167/\n",
            "ジョナサン http://curry-hunter.jp/post-7638/\n",
            "ジョナサン https://search.yahoo.co.jp/realtime/search?p=MammaMia%EF%BC%81&md=h&utype=img&ei=UTF-8\n",
            "鶏料理とお酒 個室居酒屋 鶏 https://www.foodpanda.co.jp/city/saitama\n",
            "鶏料理とお酒 個室居酒屋 鶏 https://www.foodpanda.co.jp/city/okayama\n",
            "鶏料理とお酒 個室居酒屋 鶏 https://www.foodpanda.co.jp/city/himeji\n"
          ],
          "name": "stdout"
        }
      ]
    },
    {
      "cell_type": "code",
      "metadata": {
        "id": "G39egaz7bdgM",
        "colab": {
          "base_uri": "https://localhost:8080/"
        },
        "outputId": "1bf51bd3-460d-4ac3-c974-5b89be36dd2f"
      },
      "source": [
        "print(\"Start : %s\" % time.ctime())\n",
        "time.sleep(2000)\n",
        "print(\"End : %s\" % time.ctime())"
      ],
      "execution_count": 17,
      "outputs": [
        {
          "output_type": "stream",
          "text": [
            "Start : Wed May 26 09:02:32 2021\n",
            "End : Wed May 26 09:35:52 2021\n"
          ],
          "name": "stdout"
        }
      ]
    },
    {
      "cell_type": "code",
      "metadata": {
        "id": "yHPZqg3Nbhv3",
        "colab": {
          "base_uri": "https://localhost:8080/"
        },
        "outputId": "526f9a5a-1cff-418a-c3d0-b3b74fe3ffb4"
      },
      "source": [
        "for j in range(len(shop_lists_2)): \n",
        "    query = '\"foodpanda.co.jp\"'+ '\"{}\"'.format(locations[0])+'\"{}\"'.format(shop_lists_2[j]) \n",
        "    for x in search(query, tld=\"co.jp\",stop=7, pause=(30-5)*np.random.random()+5,extra_params={'filter':'0'}):\n",
        "        print(locations[0],shop_lists_2[j],x)  "
      ],
      "execution_count": 18,
      "outputs": [
        {
          "output_type": "stream",
          "text": [
            "大阪 kentatsukihuraidochikin https://www.foodpanda.co.jp/restaurant/new/yyvi/kentatsukihuraidochikin-mei-tian-dian\n",
            "大阪 kentatsukihuraidochikin https://www.foodpanda.co.jp/restaurant/new/x4q1/kentatsukihuraidochikin-shang-ben-ting-dian\n",
            "大阪 da-ban-wang-jiang https://www.foodpanda.co.jp/restaurant/new/cdmg/da-ban-wang-jiang-dao-dun-ku-ben-dian\n",
            "大阪 da-ban-wang-jiang https://www.foodpanda.co.jp/chain/ce0ky/da-ban-wang-jiang-_zhi-ying-dian\n",
            "大阪 da-ban-wang-jiang https://www.foodpanda.co.jp/restaurant/new/q41u/da-ban-wang-jiang-ri-ben-qiao-dian\n",
            "大阪 da-ban-wang-jiang https://www.foodpanda.co.jp/restaurant/new/n1cl/da-ban-wang-jiang-yu-tu-ting-yi-qian-dian\n",
            "大阪 da-ban-wang-jiang https://www.foodpanda.co.jp/restaurant/new/wt1i/da-ban-wang-jiang-yu-zao-dian\n",
            "大阪 da-ban-wang-jiang https://www.foodpanda.co.jp/restaurant/new/ljab/da-ban-wang-jiang-nanbaqian-ri-qian-dian\n",
            "大阪 da-ban-wang-jiang https://www.foodpanda.co.jp/restaurant/new/gb8a/da-ban-wang-jiang-yumematoda-jiang\n",
            "大阪 gaburichikin https://www.foodpanda.co.jp/en/chain/cx9ra/gaburichikin\n",
            "大阪 gaburichikin https://www.foodpanda.co.jp/chain/cx9ra/gaburichikin\n",
            "大阪 gaburichikin https://www.foodpanda.co.jp/restaurant/new/ggd8/gaburichikin-li-nanbadian\n",
            "大阪 gaburichikin https://www.foodpanda.co.jp/restaurant/ggd8/gaburichikin-li-nanbadian\n",
            "大阪 hai-di-lao https://www.foodpanda.co.jp/restaurant/new/aew4/hai-di-lao-huo-guo-xin-zhai-qiao-dian\n"
          ],
          "name": "stdout"
        }
      ]
    },
    {
      "cell_type": "code",
      "metadata": {
        "id": "XMD6lIzGbiYU",
        "colab": {
          "base_uri": "https://localhost:8080/"
        },
        "outputId": "cdda9484-1fd7-439b-a561-945ee82c0248"
      },
      "source": [
        "print(\"Start : %s\" % time.ctime())\n",
        "time.sleep(2000)\n",
        "print(\"End : %s\" % time.ctime())"
      ],
      "execution_count": 19,
      "outputs": [
        {
          "output_type": "stream",
          "text": [
            "Start : Wed May 26 09:38:58 2021\n",
            "End : Wed May 26 10:12:18 2021\n"
          ],
          "name": "stdout"
        }
      ]
    },
    {
      "cell_type": "code",
      "metadata": {
        "id": "Cg46dU09bjBq",
        "colab": {
          "base_uri": "https://localhost:8080/"
        },
        "outputId": "6ce59356-12df-4ae4-eac0-e33b19cc3956"
      },
      "source": [
        "for j in range(len(shop_lists_2)): \n",
        "    query = '\"foodpanda.co.jp\"'+ '\"{}\"'.format(locations[1])+'\"{}\"'.format(shop_lists_2[j]) \n",
        "    for x in search(query, tld=\"co.jp\",stop=7, pause=(30-5)*np.random.random()+5,extra_params={'filter':'0'}):\n",
        "        print(locations[1],shop_lists_2[j],x)  "
      ],
      "execution_count": 20,
      "outputs": [
        {
          "output_type": "stream",
          "text": [
            "京都 gaburichikin https://www.foodpanda.co.jp/restaurant/new/tt8i/gaburichikin-he-yuan-ting-san-tiao-dian\n",
            "京都 gaburichikin https://www.foodpanda.co.jp/en/restaurant/new/tt8i/gaburichikin-he-yuan-ting-san-tiao-dian\n",
            "京都 gaburichikin https://www.foodpanda.co.jp/en/restaurant/new/tt8i/karaagebian-dang-gaburichikin-he-yuan-ting-san-tiao-dian\n",
            "京都 roson https://ne-np.facebook.com/jiutk3347/about\n",
            "京都 roson https://hi-in.facebook.com/jiutk3347/about\n",
            "京都 roson https://he-il.facebook.com/jiutk3347/about\n",
            "京都 roson https://hu-hu.facebook.com/jiutk3347/photos\n",
            "京都 bagakingu https://www.foodpanda.co.jp/restaurant/new/pqbn/bagakingu-si-ting-jing-ji-dian\n",
            "京都 bagakingu https://www.foodpanda.co.jp/en/restaurant/new/pqbn/bagakingu-si-ting-jing-ji-dian\n",
            "京都 hai-di-lao https://www.foodpanda.my/chain/cc2cu/hup-soon-seremban-trading\n",
            "京都 hai-di-lao https://www.foodpanda.my/ms/chain/cc2cu/hup-soon-seremban-trading?r=1\n",
            "京都 hai-di-lao https://www.foodpanda.my/zh/chain/cc2cu/hup-soon-seremban-trading?r=1\n"
          ],
          "name": "stdout"
        }
      ]
    },
    {
      "cell_type": "code",
      "metadata": {
        "id": "VvwhsLanbjPs",
        "colab": {
          "base_uri": "https://localhost:8080/"
        },
        "outputId": "fb2a8cad-8f4f-4b48-f69a-c0b6be35d9ca"
      },
      "source": [
        "print(\"Start : %s\" % time.ctime())\n",
        "time.sleep(2000)\n",
        "print(\"End : %s\" % time.ctime())"
      ],
      "execution_count": 21,
      "outputs": [
        {
          "output_type": "stream",
          "text": [
            "Start : Wed May 26 10:15:43 2021\n",
            "End : Wed May 26 10:49:03 2021\n"
          ],
          "name": "stdout"
        }
      ]
    },
    {
      "cell_type": "code",
      "metadata": {
        "id": "ltpxMMX3buvg",
        "colab": {
          "base_uri": "https://localhost:8080/"
        },
        "outputId": "65e985dc-ae2b-4afb-d6dd-2c4c9806a2df"
      },
      "source": [
        "for j in range(len(shop_lists_2)): \n",
        "    query = '\"foodpanda.co.jp\"'+ '\"{}\"'.format(locations[2])+'\"{}\"'.format(shop_lists_2[j]) \n",
        "    for x in search(query, tld=\"co.jp\",stop=7, pause=(30-5)*np.random.random()+5,extra_params={'filter':'0'}):\n",
        "        print(locations[2],shop_lists_2[j],x) "
      ],
      "execution_count": 22,
      "outputs": [
        {
          "output_type": "stream",
          "text": [
            "神戸 kentatsukihuraidochikin https://www.foodpanda.co.jp/restaurant/new/f85u/kentatsukihuraidochikin-papiyongadendian\n",
            "神戸 kentatsukihuraidochikin https://www.foodpanda.co.jp/restaurant/new/x4q1/kentatsukihuraidochikin-shang-ben-ting-dian\n",
            "神戸 kentatsukihuraidochikin https://www.foodpanda.co.jp/restaurant/new/blmi/kentatsukihuraidochikin-ionmoruyu-ye-dian\n",
            "神戸 kentatsukihuraidochikin https://www.foodpanda.co.jp/restaurant/new/lk6x/kentatsukihuraidochikin-iondong-shen-nai-chuan-dian\n",
            "神戸 kentatsukihuraidochikin https://www.foodpanda.co.jp/restaurant/new/ie29/kentatsukihuraidochikin-chuan-qi-yin-liu-jie-dian\n",
            "神戸 kentatsukihuraidochikin https://www.foodpanda.co.jp/restaurant/new/z0av/kentatsukihuraidochikin-fu-gang-chi-ban-dian\n",
            "神戸 kentatsukihuraidochikin https://www.foodpanda.co.jp/restaurant/new/zruo/kentatsukihuraidochikin-ionbei-pu-he-dian\n",
            "神戸 da-ban-wang-jiang https://www.foodpanda.co.jp/restaurant/new/udcd/da-ban-wang-jiang-liu-jia-dao-dian\n",
            "神戸 da-ban-wang-jiang https://www.foodpanda.co.jp/restaurant/new/n1cl/da-ban-wang-jiang-yu-tu-ting-yi-qian-dian\n",
            "神戸 da-ban-wang-jiang https://www.foodpanda.co.jp/restaurant/new/cdmg/da-ban-wang-jiang-dao-dun-ku-ben-dian\n",
            "神戸 da-ban-wang-jiang https://www.foodpanda.co.jp/chain/ce0ky/da-ban-wang-jiang-_zhi-ying-dian\n",
            "神戸 da-ban-wang-jiang https://www.foodpanda.co.jp/restaurant/new/piz8/da-ban-wang-jiang-huresupoyu-ye-dian\n",
            "神戸 da-ban-wang-jiang https://www.foodpanda.co.jp/restaurant/new/o9dx/da-ban-wang-jiang-yu-tu-ting-yi-qian-dian-an\n",
            "神戸 da-ban-wang-jiang https://www.foodpanda.co.jp/restaurant/new/tnso/da-ban-wang-jiang-bei-9tiao-dian\n",
            "神戸 gaburichikin https://www.foodpanda.co.jp/chain/cx9ra/gaburichikin\n",
            "神戸 gaburichikin https://www.foodpanda.co.jp/restaurant/new/u7bp/karaagebian-dang-gaburichikin-tian-shen-dian\n",
            "神戸 gaburichikin https://www.foodpanda.co.jp/restaurant/new/yuw5/karaagebian-dang-gaburichikin-jin-quan-dian\n",
            "神戸 gaburichikin https://www.foodpanda.co.jp/restaurant/new/rxce/gaburichikin-jin-shan-dian\n",
            "神戸 gaburichikin https://www.foodpanda.co.jp/restaurant/new/kavq/gaburichikin-rong-zhu-ji-dian\n",
            "神戸 gaburichikin https://www.foodpanda.co.jp/restaurant/new/tt8i/gaburichikin-he-yuan-ting-san-tiao-dian\n",
            "神戸 gaburichikin https://www.foodpanda.co.jp/restaurant/new/xnyt/karaagebian-dang-gaburichikin-wu-zang-xiao-shan-dian\n",
            "神戸 bagakingu https://www.foodpanda.co.jp/restaurant/new/q1kh/bagakingu-ban-ji-san-gong-yi-qian-dian\n",
            "神戸 bagakingu https://www.foodpanda.co.jp/restaurant/q1kh/bagakingu-ban-ji-san-gong-yi-qian-dian\n",
            "神戸 bagakingu https://www.foodpanda.co.jp/restaurant/new/pqbn/bagakingu-si-ting-jing-ji-dian\n",
            "神戸 bagakingu https://www.foodpanda.co.jp/restaurant/new/c199/bagakingu-bei-pu-he-yi-qian-dian\n",
            "神戸 bagakingu https://www.foodpanda.co.jp/restaurant/new/u0fh/bagakingu-da-xu-dian\n",
            "神戸 bagakingu https://www.foodpanda.co.jp/restaurant/new/kuoc/bagakingu-chuan-qi-daisudian\n",
            "神戸 bagakingu https://www.foodpanda.co.jp/restaurant/new/pvyx/bagakingu-chuan-qi-zerogetodian\n",
            "神戸 hai-di-lao https://www.foodpanda.co.jp/restaurant/new/nlle/hai-di-lao-huo-guo-san-gong-dian\n",
            "神戸 hai-di-lao https://www.foodpanda.co.jp/restaurant/new/ub0z/hai-di-lao-huo-guo-chuan-qi-dian\n",
            "神戸 hai-di-lao https://www.foodpanda.co.jp/restaurant/new/aew4/hai-di-lao-huo-guo-xin-zhai-qiao-dian\n",
            "神戸 hai-di-lao https://www.foodpanda.co.jp/restaurant/new/fewx/hai-di-lao-heng-bang-yi-qian-dian\n",
            "神戸 hai-di-lao https://www.foodpanda.co.jp/restaurant/new/edhl/hai-di-lao-huo-guo-heng-bang-zhong-hua-jie-dian\n",
            "神戸 hai-di-lao https://www.foodpanda.co.jp/en/restaurant/ub0z/hai-di-lao-huo-guo-chuan-qi-dian\n",
            "神戸 hai-di-lao https://www.foodpanda.co.jp/restaurant/new/edhl/hai-di-lao-huo-guo-zhong-hua-jie-dian\n"
          ],
          "name": "stdout"
        }
      ]
    },
    {
      "cell_type": "code",
      "metadata": {
        "id": "gK06rVuVb3jM",
        "colab": {
          "base_uri": "https://localhost:8080/"
        },
        "outputId": "6ea8c0db-cdd5-4432-b0f5-68a1e7a354d7"
      },
      "source": [
        "print(\"Start : %s\" % time.ctime())\n",
        "time.sleep(2000)\n",
        "print(\"End : %s\" % time.ctime())"
      ],
      "execution_count": 23,
      "outputs": [
        {
          "output_type": "stream",
          "text": [
            "Start : Wed May 26 10:51:08 2021\n",
            "End : Wed May 26 11:24:28 2021\n"
          ],
          "name": "stdout"
        }
      ]
    },
    {
      "cell_type": "code",
      "metadata": {
        "id": "ly9Nvbjhb4wu",
        "colab": {
          "base_uri": "https://localhost:8080/"
        },
        "outputId": "26c74613-9835-476a-bb2e-9bd5ca5bebfe"
      },
      "source": [
        "for j in range(len(shop_lists_2)): \n",
        "    query = '\"foodpanda.co.jp\"'+ '\"{}\"'.format(locations[3])+'\"{}\"'.format(shop_lists_2[j]) \n",
        "    for x in search(query, tld=\"co.jp\",stop=7, pause=(30-5)*np.random.random()+5,extra_params={'filter':'0'}):\n",
        "        print(locations[3],shop_lists_2[j],x) "
      ],
      "execution_count": 24,
      "outputs": [
        {
          "output_type": "stream",
          "text": [
            "広島 da-ban-wang-jiang https://www.foodpanda.co.jp/restaurant/new/nrbd/da-ban-wang-jiang-guang-dao-da-ting-dian\n"
          ],
          "name": "stdout"
        }
      ]
    },
    {
      "cell_type": "code",
      "metadata": {
        "id": "JO7wxct1cASo",
        "colab": {
          "base_uri": "https://localhost:8080/"
        },
        "outputId": "98d8dc8e-17c8-430c-f4ef-a7755c0cdf9e"
      },
      "source": [
        "print(\"Start : %s\" % time.ctime())\n",
        "time.sleep(2000)\n",
        "print(\"End : %s\" % time.ctime())"
      ],
      "execution_count": 25,
      "outputs": [
        {
          "output_type": "stream",
          "text": [
            "Start : Wed May 26 11:26:46 2021\n",
            "End : Wed May 26 12:00:06 2021\n"
          ],
          "name": "stdout"
        }
      ]
    },
    {
      "cell_type": "code",
      "metadata": {
        "id": "hHlxYV4Rb5x4",
        "colab": {
          "base_uri": "https://localhost:8080/"
        },
        "outputId": "fe8a658c-e7b0-4b85-c811-8b9bab6eb44f"
      },
      "source": [
        "for j in range(len(shop_lists_2)): \n",
        "    query = '\"foodpanda.co.jp\"'+ '\"{}\"'.format(locations[4])+'\"{}\"'.format(shop_lists_2[j]) \n",
        "    for x in search(query, tld=\"co.jp\",stop=7, pause=(30-5)*np.random.random()+5,extra_params={'filter':'0'}):\n",
        "        print(locations[4],shop_lists_2[j],x)  \n"
      ],
      "execution_count": 26,
      "outputs": [
        {
          "output_type": "stream",
          "text": [
            "福岡 kentatsukihuraidochikin https://www.foodpanda.co.jp/restaurant/new/uab9/kentatsukihuraidochikin-fu-gang-yuan-baipasudian\n",
            "福岡 kentatsukihuraidochikin https://www.foodpanda.co.jp/restaurant/new/z0av/kentatsukihuraidochikin-fu-gang-chi-ban-dian\n",
            "福岡 kentatsukihuraidochikin https://www.foodpanda.co.jp/restaurant/new/f85u/kentatsukihuraidochikin-papiyongadendian\n",
            "福岡 da-ban-wang-jiang https://www.foodpanda.co.jp/restaurant/epzu/da-ban-wang-jiang-tian-shen-xin-tian-ting-dian?opening_type=pickup\n",
            "福岡 da-ban-wang-jiang https://www.foodpanda.co.jp/restaurant/new/epzu/da-ban-wang-jiang-tian-shen-xin-tian-ting-dian\n",
            "福岡 gaburichikin https://www.foodpanda.co.jp/restaurant/new/u7bp/karaagebian-dang-gaburichikin-tian-shen-dian\n",
            "福岡 gaburichikin https://www.foodpanda.co.jp/restaurant/new/yuw5/karaagebian-dang-gaburichikin-jin-quan-dian\n",
            "福岡 gaburichikin https://www.foodpanda.co.jp/restaurant/yuw5/gaburichikin-jin-quan-dian?opening_type=pickup\n",
            "福岡 gaburichikin https://www.foodpanda.co.jp/en/restaurant/yuw5/karaagebian-dang-gaburichikin-jin-quan-dian\n",
            "福岡 roson https://www.foodpanda.co.jp/en/restaurant/new/kph9/roson-orientaruhoterufu-gang\n",
            "福岡 bagakingu https://www.foodpanda.co.jp/restaurant/new/u74n/bagakingu-bo-duo-yi-zhu-zi-kou-dian\n",
            "福岡 hai-di-lao https://www.foodpanda.co.jp/en/restaurant/t0j6/hai-di-lao-huo-guo-fu-gang-dian\n",
            "福岡 hai-di-lao https://www.foodpanda.co.jp/restaurant/new/t0j6/hai-di-lao-huo-guo-fu-gang-dian\n"
          ],
          "name": "stdout"
        }
      ]
    },
    {
      "cell_type": "code",
      "metadata": {
        "colab": {
          "base_uri": "https://localhost:8080/"
        },
        "id": "RpOWniSZwCka",
        "outputId": "8deb184f-0f44-46f8-88b8-9b7031c73034"
      },
      "source": [
        "#With Past week filter\n",
        "for j in range(len(shop_lists_2)): \n",
        "    query = '\"foodpanda.co.jp\"'+ '\"{}\"'.format(locations[0])+'\"{}\"'.format(shop_lists_2[j]) \n",
        "    for x in search(query, tld=\"co.jp\",stop=7, pause=(30-5)*np.random.random()+5,extra_params={'filter':'0'},tbs=\"qdr:w\"):\n",
        "        print(locations[0],shop_lists_2[j],x) "
      ],
      "execution_count": 27,
      "outputs": [
        {
          "output_type": "stream",
          "text": [
            "大阪 da-ban-wang-jiang https://www.foodpanda.co.jp/restaurant/new/ljab/da-ban-wang-jiang-nanbaqian-ri-qian-dian\n",
            "大阪 da-ban-wang-jiang https://www.foodpanda.co.jp/en/restaurant/new/ljab/da-ban-wang-jiang-nanbaqian-ri-qian-dian\n",
            "大阪 da-ban-wang-jiang https://www.foodpanda.co.jp/en/restaurant/ljab/da-ban-wang-jiang-nanbaqian-ri-qian-dian\n"
          ],
          "name": "stdout"
        }
      ]
    },
    {
      "cell_type": "code",
      "metadata": {
        "id": "Ai7moDdjwke1"
      },
      "source": [
        ""
      ],
      "execution_count": null,
      "outputs": []
    }
  ]
}